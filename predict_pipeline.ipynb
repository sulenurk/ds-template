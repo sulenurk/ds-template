{
 "cells": [
  {
   "cell_type": "code",
   "execution_count": null,
   "metadata": {
    "colab": {
     "base_uri": "https://localhost:8080/"
    },
    "executionInfo": {
     "elapsed": 18764,
     "status": "ok",
     "timestamp": 1744638787119,
     "user": {
      "displayName": "Şule",
      "userId": "00500865046064617523"
     },
     "user_tz": -120
    },
    "id": "yJtoYtDWJPMN",
    "outputId": "03c51760-231b-4377-ece6-cacb3dbfd237"
   },
   "outputs": [],
   "source": [
    "import pandas as pd\n",
    "from utils.data_prep_utils import *\n",
    "from transformers.encoder import *\n",
    "from transformers.binner import *\n",
    "from transformers.standardizer import *\n",
    "from model_binclass import model_utils, xgboost_binclass"
   ]
  },
  {
   "cell_type": "code",
   "execution_count": 2,
   "metadata": {
    "id": "rCsLLXy6__87"
   },
   "outputs": [],
   "source": [
    "#Data import form drive\n",
    "df = pd.read_csv(r'resource/Machine failure.csv')\n",
    "df_mainteance = df.drop(['TWF','HDF','PWF', 'OSF', 'RNF'], axis=1)\n",
    "target_col = df_mainteance.columns[-1]\n",
    "\n",
    "X = df_mainteance.drop(['UDI', 'Product ID', target_col], axis=1)\n",
    "y =df_mainteance[target_col]"
   ]
  },
  {
   "cell_type": "code",
   "execution_count": null,
   "metadata": {},
   "outputs": [
    {
     "name": "stdout",
     "output_type": "stream",
     "text": [
      "Encoder loaded from encoder_info\n",
      "Standardizer loaded from stand_info\n",
      "Model loaded from model_info\n"
     ]
    }
   ],
   "source": [
    "encoder_info = load_encoder('resources/info/encoder_info')\n",
    "stand_info = load_standardizer('resources/info/stand_info')\n",
    "model_info = xgboost_binclass.load_model('resources/info/model_info')"
   ]
  },
  {
   "cell_type": "code",
   "execution_count": 5,
   "metadata": {
    "id": "5SPl7YOkEqXO"
   },
   "outputs": [],
   "source": [
    "X = apply_encoder(X, encoder_info)\n",
    "X = apply_standardizer(X, stand_info)\n",
    "prediction = model_utils.apply_model(X, model_info)"
   ]
  }
 ],
 "metadata": {
  "colab": {
   "authorship_tag": "ABX9TyNBFhO5ytteE/zhCkiQkDq0",
   "provenance": [
    {
     "file_id": "1B7ZQ25v5WZ6iWHAPLlgOPYvPV0sXYt_h",
     "timestamp": 1744646121795
    },
    {
     "file_id": "1Zq5T9WBN734BRbaknZLbWc1zigkcnZiq",
     "timestamp": 1744021596593
    },
    {
     "file_id": "1AGUULNXaIYSf61B4TUr3LDSXFpKX55lb",
     "timestamp": 1742786571969
    }
   ]
  },
  "kernelspec": {
   "display_name": "Python 3",
   "name": "python3"
  },
  "language_info": {
   "codemirror_mode": {
    "name": "ipython",
    "version": 3
   },
   "file_extension": ".py",
   "mimetype": "text/x-python",
   "name": "python",
   "nbconvert_exporter": "python",
   "pygments_lexer": "ipython3",
   "version": "3.11.2"
  }
 },
 "nbformat": 4,
 "nbformat_minor": 0
}
